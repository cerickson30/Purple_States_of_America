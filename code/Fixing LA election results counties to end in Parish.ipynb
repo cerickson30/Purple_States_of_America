{
 "cells": [
  {
   "cell_type": "code",
   "execution_count": 3,
   "metadata": {},
   "outputs": [],
   "source": [
    "import pandas as pd"
   ]
  },
  {
   "cell_type": "code",
   "execution_count": 25,
   "metadata": {},
   "outputs": [
    {
     "name": "stderr",
     "output_type": "stream",
     "text": [
      "<ipython-input-25-3ca730eea298>:7: SettingWithCopyWarning: \n",
      "A value is trying to be set on a copy of a slice from a DataFrame\n",
      "\n",
      "See the caveats in the documentation: https://pandas.pydata.org/pandas-docs/stable/user_guide/indexing.html#returning-a-view-versus-a-copy\n",
      "  LA_results[f'{year} US Presidential Election'][ii] += ' Parish'\n"
     ]
    }
   ],
   "source": [
    "for year in range(1960, 2016, 4):\n",
    "    file = f'../data/LA{year}.txt'\n",
    "    \n",
    "    LA_results = pd.read_csv(file).drop(columns='Unnamed: 0')\n",
    "    \n",
    "    for ii in range(len(LA_results)):\n",
    "        LA_results[f'{year} US Presidential Election'][ii] += ' Parish'\n",
    "        \n",
    "    LA_results.to_csv(file, index=False)"
   ]
  },
  {
   "cell_type": "code",
   "execution_count": null,
   "metadata": {},
   "outputs": [],
   "source": []
  }
 ],
 "metadata": {
  "kernelspec": {
   "display_name": "Python 3",
   "language": "python",
   "name": "python3"
  },
  "language_info": {
   "codemirror_mode": {
    "name": "ipython",
    "version": 3
   },
   "file_extension": ".py",
   "mimetype": "text/x-python",
   "name": "python",
   "nbconvert_exporter": "python",
   "pygments_lexer": "ipython3",
   "version": "3.8.6"
  }
 },
 "nbformat": 4,
 "nbformat_minor": 4
}
